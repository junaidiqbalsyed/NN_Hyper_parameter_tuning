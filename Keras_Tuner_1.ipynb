{
  "nbformat": 4,
  "nbformat_minor": 0,
  "metadata": {
    "colab": {
      "name": "Keras Tuner - 1",
      "provenance": []
    },
    "kernelspec": {
      "name": "python3",
      "display_name": "Python 3"
    },
    "language_info": {
      "name": "python"
    }
  },
  "cells": [
    {
      "cell_type": "code",
      "metadata": {
        "id": "bW3XB-e3aCz3"
      },
      "source": [
        "import warnings\n",
        "warnings.filterwarnings('ignore')"
      ],
      "execution_count": null,
      "outputs": []
    },
    {
      "cell_type": "code",
      "metadata": {
        "id": "wEoXouPAvncE"
      },
      "source": [
        "!pip install keras-tuner"
      ],
      "execution_count": null,
      "outputs": []
    },
    {
      "cell_type": "code",
      "metadata": {
        "id": "Fgikhh5BASjN"
      },
      "source": [
        "import matplotlib.pyplot as plt\n",
        "import numpy as np\n",
        "import seaborn as sns\n",
        "import pandas as pd\n",
        "\n",
        "\n",
        "from sklearn.preprocessing import   StandardScaler, FunctionTransformer, PowerTransformer , RobustScaler, MinMaxScaler, MaxAbsScaler\n",
        "\n",
        "from tensorflow.keras.datasets import boston_housing\n",
        "\n",
        "\n",
        "from tensorflow.keras.layers import Dense\n",
        "\n",
        "from tensorflow.keras.models import Sequential\n",
        "from tensorflow import keras\n",
        "\n",
        "\n",
        "from kerastuner.tuners import RandomSearch"
      ],
      "execution_count": null,
      "outputs": []
    },
    {
      "cell_type": "code",
      "metadata": {
        "id": "qO6lqceuBn_1"
      },
      "source": [
        "from sklearn.datasets import load_boston\n",
        "boston_dataset = load_boston()"
      ],
      "execution_count": null,
      "outputs": []
    },
    {
      "cell_type": "code",
      "metadata": {
        "colab": {
          "base_uri": "https://localhost:8080/",
          "height": 204
        },
        "id": "l2glG2J2lLac",
        "outputId": "69208fb8-b283-4d0c-958c-629471a4d683"
      },
      "source": [
        "\n",
        "boston = pd.DataFrame(boston_dataset.data, columns=boston_dataset.feature_names)\n",
        "boston.head()"
      ],
      "execution_count": null,
      "outputs": [
        {
          "output_type": "execute_result",
          "data": {
            "text/html": [
              "<div>\n",
              "<style scoped>\n",
              "    .dataframe tbody tr th:only-of-type {\n",
              "        vertical-align: middle;\n",
              "    }\n",
              "\n",
              "    .dataframe tbody tr th {\n",
              "        vertical-align: top;\n",
              "    }\n",
              "\n",
              "    .dataframe thead th {\n",
              "        text-align: right;\n",
              "    }\n",
              "</style>\n",
              "<table border=\"1\" class=\"dataframe\">\n",
              "  <thead>\n",
              "    <tr style=\"text-align: right;\">\n",
              "      <th></th>\n",
              "      <th>CRIM</th>\n",
              "      <th>ZN</th>\n",
              "      <th>INDUS</th>\n",
              "      <th>CHAS</th>\n",
              "      <th>NOX</th>\n",
              "      <th>RM</th>\n",
              "      <th>AGE</th>\n",
              "      <th>DIS</th>\n",
              "      <th>RAD</th>\n",
              "      <th>TAX</th>\n",
              "      <th>PTRATIO</th>\n",
              "      <th>B</th>\n",
              "      <th>LSTAT</th>\n",
              "    </tr>\n",
              "  </thead>\n",
              "  <tbody>\n",
              "    <tr>\n",
              "      <th>0</th>\n",
              "      <td>0.00632</td>\n",
              "      <td>18.0</td>\n",
              "      <td>2.31</td>\n",
              "      <td>0.0</td>\n",
              "      <td>0.538</td>\n",
              "      <td>6.575</td>\n",
              "      <td>65.2</td>\n",
              "      <td>4.0900</td>\n",
              "      <td>1.0</td>\n",
              "      <td>296.0</td>\n",
              "      <td>15.3</td>\n",
              "      <td>396.90</td>\n",
              "      <td>4.98</td>\n",
              "    </tr>\n",
              "    <tr>\n",
              "      <th>1</th>\n",
              "      <td>0.02731</td>\n",
              "      <td>0.0</td>\n",
              "      <td>7.07</td>\n",
              "      <td>0.0</td>\n",
              "      <td>0.469</td>\n",
              "      <td>6.421</td>\n",
              "      <td>78.9</td>\n",
              "      <td>4.9671</td>\n",
              "      <td>2.0</td>\n",
              "      <td>242.0</td>\n",
              "      <td>17.8</td>\n",
              "      <td>396.90</td>\n",
              "      <td>9.14</td>\n",
              "    </tr>\n",
              "    <tr>\n",
              "      <th>2</th>\n",
              "      <td>0.02729</td>\n",
              "      <td>0.0</td>\n",
              "      <td>7.07</td>\n",
              "      <td>0.0</td>\n",
              "      <td>0.469</td>\n",
              "      <td>7.185</td>\n",
              "      <td>61.1</td>\n",
              "      <td>4.9671</td>\n",
              "      <td>2.0</td>\n",
              "      <td>242.0</td>\n",
              "      <td>17.8</td>\n",
              "      <td>392.83</td>\n",
              "      <td>4.03</td>\n",
              "    </tr>\n",
              "    <tr>\n",
              "      <th>3</th>\n",
              "      <td>0.03237</td>\n",
              "      <td>0.0</td>\n",
              "      <td>2.18</td>\n",
              "      <td>0.0</td>\n",
              "      <td>0.458</td>\n",
              "      <td>6.998</td>\n",
              "      <td>45.8</td>\n",
              "      <td>6.0622</td>\n",
              "      <td>3.0</td>\n",
              "      <td>222.0</td>\n",
              "      <td>18.7</td>\n",
              "      <td>394.63</td>\n",
              "      <td>2.94</td>\n",
              "    </tr>\n",
              "    <tr>\n",
              "      <th>4</th>\n",
              "      <td>0.06905</td>\n",
              "      <td>0.0</td>\n",
              "      <td>2.18</td>\n",
              "      <td>0.0</td>\n",
              "      <td>0.458</td>\n",
              "      <td>7.147</td>\n",
              "      <td>54.2</td>\n",
              "      <td>6.0622</td>\n",
              "      <td>3.0</td>\n",
              "      <td>222.0</td>\n",
              "      <td>18.7</td>\n",
              "      <td>396.90</td>\n",
              "      <td>5.33</td>\n",
              "    </tr>\n",
              "  </tbody>\n",
              "</table>\n",
              "</div>"
            ],
            "text/plain": [
              "      CRIM    ZN  INDUS  CHAS    NOX  ...  RAD    TAX  PTRATIO       B  LSTAT\n",
              "0  0.00632  18.0   2.31   0.0  0.538  ...  1.0  296.0     15.3  396.90   4.98\n",
              "1  0.02731   0.0   7.07   0.0  0.469  ...  2.0  242.0     17.8  396.90   9.14\n",
              "2  0.02729   0.0   7.07   0.0  0.469  ...  2.0  242.0     17.8  392.83   4.03\n",
              "3  0.03237   0.0   2.18   0.0  0.458  ...  3.0  222.0     18.7  394.63   2.94\n",
              "4  0.06905   0.0   2.18   0.0  0.458  ...  3.0  222.0     18.7  396.90   5.33\n",
              "\n",
              "[5 rows x 13 columns]"
            ]
          },
          "metadata": {
            "tags": []
          },
          "execution_count": 5
        }
      ]
    },
    {
      "cell_type": "code",
      "metadata": {
        "colab": {
          "base_uri": "https://localhost:8080/"
        },
        "id": "eql3VJPrleuV",
        "outputId": "66fa5671-5745-4fc9-dfab-3cfea9ce14fa"
      },
      "source": [
        "boston.info()"
      ],
      "execution_count": null,
      "outputs": [
        {
          "output_type": "stream",
          "text": [
            "<class 'pandas.core.frame.DataFrame'>\n",
            "RangeIndex: 506 entries, 0 to 505\n",
            "Data columns (total 13 columns):\n",
            " #   Column   Non-Null Count  Dtype  \n",
            "---  ------   --------------  -----  \n",
            " 0   CRIM     506 non-null    float64\n",
            " 1   ZN       506 non-null    float64\n",
            " 2   INDUS    506 non-null    float64\n",
            " 3   CHAS     506 non-null    float64\n",
            " 4   NOX      506 non-null    float64\n",
            " 5   RM       506 non-null    float64\n",
            " 6   AGE      506 non-null    float64\n",
            " 7   DIS      506 non-null    float64\n",
            " 8   RAD      506 non-null    float64\n",
            " 9   TAX      506 non-null    float64\n",
            " 10  PTRATIO  506 non-null    float64\n",
            " 11  B        506 non-null    float64\n",
            " 12  LSTAT    506 non-null    float64\n",
            "dtypes: float64(13)\n",
            "memory usage: 51.5 KB\n"
          ],
          "name": "stdout"
        }
      ]
    },
    {
      "cell_type": "code",
      "metadata": {
        "colab": {
          "base_uri": "https://localhost:8080/",
          "height": 322
        },
        "id": "mZXbYZavlerd",
        "outputId": "b7f2b013-ede6-492e-e756-51df8a1fbed3"
      },
      "source": [
        "sns.set(rc={'figure.figsize':(11.7,5)})\n",
        "sns.distplot(boston.values , bins = 10 )\n",
        "plt.show()"
      ],
      "execution_count": null,
      "outputs": [
        {
          "output_type": "display_data",
          "data": {
            "image/png": "[encoded data removed]",
            "text/plain": [
              "<Figure size 842.4x360 with 1 Axes>"
            ]
          },
          "metadata": {
            "tags": []
          }
        }
      ]
    },
    {
      "cell_type": "code",
      "metadata": {
        "colab": {
          "base_uri": "https://localhost:8080/",
          "height": 322
        },
        "id": "1RRBeTZwlepX",
        "outputId": "bdbaff81-d382-41cb-a20f-86139e61eea5"
      },
      "source": [
        "# now we will try to normally distribute our data \n",
        "\n",
        "ms = MaxAbsScaler()\n",
        "\n",
        "b = ms.fit_transform( boston.values )\n",
        "\n",
        "df = pd.DataFrame(data= b , columns= boston_dataset.feature_names )\n",
        "\n",
        "\n",
        "sns.set(rc={'figure.figsize':(11.7,5)})\n",
        "sns.distplot(df.values , bins = 30 )\n",
        "plt.show()"
      ],
      "execution_count": null,
      "outputs": [
        {
          "output_type": "display_data",
          "data": {
            "image/png": "[encoded data removed]",
            "text/plain": [
              "<Figure size 842.4x360 with 1 Axes>"
            ]
          },
          "metadata": {
            "tags": []
          }
        }
      ]
    },
    {
      "cell_type": "code",
      "metadata": {
        "id": "Kh8ZThD8r01W"
      },
      "source": [
        "df['price'] = boston_dataset.target"
      ],
      "execution_count": null,
      "outputs": []
    },
    {
      "cell_type": "code",
      "metadata": {
        "colab": {
          "base_uri": "https://localhost:8080/",
          "height": 204
        },
        "id": "8oV63j97r0xR",
        "outputId": "06f1f5d8-ae87-4ab2-b364-5d1083bb29b4"
      },
      "source": [
        "df.head()"
      ],
      "execution_count": null,
      "outputs": [
        {
          "output_type": "execute_result",
          "data": {
            "text/html": [
              "<div>\n",
              "<style scoped>\n",
              "    .dataframe tbody tr th:only-of-type {\n",
              "        vertical-align: middle;\n",
              "    }\n",
              "\n",
              "    .dataframe tbody tr th {\n",
              "        vertical-align: top;\n",
              "    }\n",
              "\n",
              "    .dataframe thead th {\n",
              "        text-align: right;\n",
              "    }\n",
              "</style>\n",
              "<table border=\"1\" class=\"dataframe\">\n",
              "  <thead>\n",
              "    <tr style=\"text-align: right;\">\n",
              "      <th></th>\n",
              "      <th>CRIM</th>\n",
              "      <th>ZN</th>\n",
              "      <th>INDUS</th>\n",
              "      <th>CHAS</th>\n",
              "      <th>NOX</th>\n",
              "      <th>RM</th>\n",
              "      <th>AGE</th>\n",
              "      <th>DIS</th>\n",
              "      <th>RAD</th>\n",
              "      <th>TAX</th>\n",
              "      <th>PTRATIO</th>\n",
              "      <th>B</th>\n",
              "      <th>LSTAT</th>\n",
              "      <th>price</th>\n",
              "    </tr>\n",
              "  </thead>\n",
              "  <tbody>\n",
              "    <tr>\n",
              "      <th>0</th>\n",
              "      <td>0.000071</td>\n",
              "      <td>0.18</td>\n",
              "      <td>0.083273</td>\n",
              "      <td>0.0</td>\n",
              "      <td>0.617681</td>\n",
              "      <td>0.748861</td>\n",
              "      <td>0.652</td>\n",
              "      <td>0.337278</td>\n",
              "      <td>0.041667</td>\n",
              "      <td>0.416315</td>\n",
              "      <td>0.695455</td>\n",
              "      <td>1.000000</td>\n",
              "      <td>0.131156</td>\n",
              "      <td>24.0</td>\n",
              "    </tr>\n",
              "    <tr>\n",
              "      <th>1</th>\n",
              "      <td>0.000307</td>\n",
              "      <td>0.00</td>\n",
              "      <td>0.254867</td>\n",
              "      <td>0.0</td>\n",
              "      <td>0.538462</td>\n",
              "      <td>0.731321</td>\n",
              "      <td>0.789</td>\n",
              "      <td>0.409607</td>\n",
              "      <td>0.083333</td>\n",
              "      <td>0.340366</td>\n",
              "      <td>0.809091</td>\n",
              "      <td>1.000000</td>\n",
              "      <td>0.240716</td>\n",
              "      <td>21.6</td>\n",
              "    </tr>\n",
              "    <tr>\n",
              "      <th>2</th>\n",
              "      <td>0.000307</td>\n",
              "      <td>0.00</td>\n",
              "      <td>0.254867</td>\n",
              "      <td>0.0</td>\n",
              "      <td>0.538462</td>\n",
              "      <td>0.818337</td>\n",
              "      <td>0.611</td>\n",
              "      <td>0.409607</td>\n",
              "      <td>0.083333</td>\n",
              "      <td>0.340366</td>\n",
              "      <td>0.809091</td>\n",
              "      <td>0.989746</td>\n",
              "      <td>0.106136</td>\n",
              "      <td>34.7</td>\n",
              "    </tr>\n",
              "    <tr>\n",
              "      <th>3</th>\n",
              "      <td>0.000364</td>\n",
              "      <td>0.00</td>\n",
              "      <td>0.078587</td>\n",
              "      <td>0.0</td>\n",
              "      <td>0.525832</td>\n",
              "      <td>0.797039</td>\n",
              "      <td>0.458</td>\n",
              "      <td>0.499913</td>\n",
              "      <td>0.125000</td>\n",
              "      <td>0.312236</td>\n",
              "      <td>0.850000</td>\n",
              "      <td>0.994281</td>\n",
              "      <td>0.077430</td>\n",
              "      <td>33.4</td>\n",
              "    </tr>\n",
              "    <tr>\n",
              "      <th>4</th>\n",
              "      <td>0.000776</td>\n",
              "      <td>0.00</td>\n",
              "      <td>0.078587</td>\n",
              "      <td>0.0</td>\n",
              "      <td>0.525832</td>\n",
              "      <td>0.814009</td>\n",
              "      <td>0.542</td>\n",
              "      <td>0.499913</td>\n",
              "      <td>0.125000</td>\n",
              "      <td>0.312236</td>\n",
              "      <td>0.850000</td>\n",
              "      <td>1.000000</td>\n",
              "      <td>0.140374</td>\n",
              "      <td>36.2</td>\n",
              "    </tr>\n",
              "  </tbody>\n",
              "</table>\n",
              "</div>"
            ],
            "text/plain": [
              "       CRIM    ZN     INDUS  CHAS  ...   PTRATIO         B     LSTAT  price\n",
              "0  0.000071  0.18  0.083273   0.0  ...  0.695455  1.000000  0.131156   24.0\n",
              "1  0.000307  0.00  0.254867   0.0  ...  0.809091  1.000000  0.240716   21.6\n",
              "2  0.000307  0.00  0.254867   0.0  ...  0.809091  0.989746  0.106136   34.7\n",
              "3  0.000364  0.00  0.078587   0.0  ...  0.850000  0.994281  0.077430   33.4\n",
              "4  0.000776  0.00  0.078587   0.0  ...  0.850000  1.000000  0.140374   36.2\n",
              "\n",
              "[5 rows x 14 columns]"
            ]
          },
          "metadata": {
            "tags": []
          },
          "execution_count": 13
        }
      ]
    },
    {
      "cell_type": "code",
      "metadata": {
        "id": "79nthw4sr0uX"
      },
      "source": [
        "from sklearn.model_selection import train_test_split"
      ],
      "execution_count": null,
      "outputs": []
    },
    {
      "cell_type": "code",
      "metadata": {
        "id": "ShLQYVjyr0ra"
      },
      "source": [
        "X_train, X_test, y_train, y_test = train_test_split(df.iloc[:,:4].values , df.iloc[:,-1].values , test_size=0.20, random_state=42)"
      ],
      "execution_count": null,
      "outputs": []
    },
    {
      "cell_type": "code",
      "metadata": {
        "id": "I5OvVbiUB04S"
      },
      "source": [
        "y_train = y_train.reshape((-1,1))\n",
        "\n",
        "y_test = y_test.reshape((-1,1))"
      ],
      "execution_count": null,
      "outputs": []
    },
    {
      "cell_type": "code",
      "metadata": {
        "colab": {
          "base_uri": "https://localhost:8080/"
        },
        "id": "PPeIGsiyCO5C",
        "outputId": "1d13672f-b592-4bb9-bcfe-faf475f9ff50"
      },
      "source": [
        "X_train.shape , y_train.shape , X_test.shape , y_test.shape "
      ],
      "execution_count": null,
      "outputs": [
        {
          "output_type": "execute_result",
          "data": {
            "text/plain": [
              "((404, 4), (404, 1), (102, 4), (102, 1))"
            ]
          },
          "metadata": {
            "tags": []
          },
          "execution_count": 17
        }
      ]
    },
    {
      "cell_type": "markdown",
      "metadata": {
        "id": "6mWKFDrVCsIC"
      },
      "source": [
        "## building a neural network for regression"
      ]
    },
    {
      "cell_type": "code",
      "metadata": {
        "id": "sM5vQKfGDvf5"
      },
      "source": [
        ""
      ],
      "execution_count": null,
      "outputs": []
    },
    {
      "cell_type": "code",
      "metadata": {
        "id": "F3VOie6PCr2i"
      },
      "source": [
        "def build_model(hp):\n",
        "  \"\"\"\n",
        "  input : \n",
        "\n",
        "  output : TRyurn the model \n",
        "  \"\"\"\n",
        "\n",
        "  model = Sequential()\n",
        "\n",
        "  for i in range( hp.Int('num_layers', 2, 30 ) ):\n",
        "\n",
        "    model.add(Dense( units= hp.Int( 'units_'+str(i), \n",
        "                                   min_value = 8, \n",
        "                                   max_value = 112, \n",
        "                                   step = 8 ), \n",
        "                    activation = 'relu' ))\n",
        "\n",
        "  model.add(Dense(units=1, activation='linear'))\n",
        "\n",
        "  model.compile(optimizer= keras.optimizers.Adam( hp.Choice('learning_rate', [1e-2,1e-3,1e-4,1e-6,1e-1]) ), \n",
        "              loss = keras.losses.mean_absolute_error, \n",
        "              metrics= ['mean_absolute_error']  )\n",
        "\n",
        "  return model"
      ],
      "execution_count": null,
      "outputs": []
    },
    {
      "cell_type": "code",
      "metadata": {
        "id": "994S_C0XH5FV"
      },
      "source": [
        "tuner = RandomSearch(hypermodel= build_model , \n",
        "                     objective= 'val_mean_absolute_error', \n",
        "                     max_trials= 10, \n",
        "                     executions_per_trial = 5 )"
      ],
      "execution_count": null,
      "outputs": []
    },
    {
      "cell_type": "code",
      "metadata": {
        "colab": {
          "base_uri": "https://localhost:8080/"
        },
        "id": "iRVG88VTIqrA",
        "outputId": "0599a639-42a4-40b1-9623-79f66e4ffc7c"
      },
      "source": [
        "# to print the summary \n",
        "\n",
        "tuner.search_space_summary()"
      ],
      "execution_count": null,
      "outputs": [
        {
          "output_type": "stream",
          "text": [
            "Search space summary\n",
            "Default search space size: 4\n",
            "num_layers (Int)\n",
            "{'default': None, 'conditions': [], 'min_value': 2, 'max_value': 30, 'step': 1, 'sampling': None}\n",
            "units_0 (Int)\n",
            "{'default': None, 'conditions': [], 'min_value': 8, 'max_value': 112, 'step': 8, 'sampling': None}\n",
            "units_1 (Int)\n",
            "{'default': None, 'conditions': [], 'min_value': 8, 'max_value': 112, 'step': 8, 'sampling': None}\n",
            "learning_rate (Choice)\n",
            "{'default': 0.01, 'conditions': [], 'values': [0.01, 0.001, 0.0001, 1e-06, 0.1], 'ordered': True}\n"
          ],
          "name": "stdout"
        }
      ]
    },
    {
      "cell_type": "code",
      "metadata": {
        "colab": {
          "base_uri": "https://localhost:8080/"
        },
        "id": "hFshewF5JhIS",
        "outputId": "b8996df5-72b5-48c5-b334-dca3b16cc651"
      },
      "source": [
        "#Then, start the search for the best hyperparameter configuration. The call to search has the same signature as model.fit(). \n",
        "\n",
        "tuner.search(X_train, y_train,\n",
        "             epochs=5,\n",
        "             validation_data=(X_test, y_test))"
      ],
      "execution_count": null,
      "outputs": [
        {
          "output_type": "stream",
          "text": [
            "Trial 10 Complete [00h 00m 12s]\n",
            "val_mean_absolute_error: 6.907243061065674\n",
            "\n",
            "Best val_mean_absolute_error So Far: 5.335524177551269\n",
            "Total elapsed time: 00h 01m 54s\n",
            "INFO:tensorflow:Oracle triggered exit\n"
          ],
          "name": "stdout"
        }
      ]
    },
    {
      "cell_type": "code",
      "metadata": {
        "id": "PKlPGY1tJ1VG"
      },
      "source": [
        "model = tuner.get_best_models(num_models=1)[0]"
      ],
      "execution_count": null,
      "outputs": []
    },
    {
      "cell_type": "code",
      "metadata": {
        "colab": {
          "base_uri": "https://localhost:8080/"
        },
        "id": "t1qfYibaKXe0",
        "outputId": "8af95bca-e8a4-404d-c339-10646beb6fc1"
      },
      "source": [
        "tuner.results_summary(num_trials=1)"
      ],
      "execution_count": null,
      "outputs": [
        {
          "output_type": "stream",
          "text": [
            "Results summary\n",
            "Results in ./untitled_project\n",
            "Showing 1 best trials\n",
            "Objective(name='val_mean_absolute_error', direction='min')\n",
            "Trial summary\n",
            "Hyperparameters:\n",
            "num_layers: 27\n",
            "units_0: 80\n",
            "units_1: 16\n",
            "learning_rate: 0.01\n",
            "units_2: 56\n",
            "units_3: 24\n",
            "units_4: 88\n",
            "units_5: 96\n",
            "units_6: 24\n",
            "units_7: 24\n",
            "units_8: 40\n",
            "units_9: 24\n",
            "units_10: 96\n",
            "units_11: 88\n",
            "units_12: 64\n",
            "units_13: 24\n",
            "units_14: 56\n",
            "units_15: 64\n",
            "units_16: 104\n",
            "units_17: 80\n",
            "units_18: 48\n",
            "units_19: 16\n",
            "units_20: 72\n",
            "units_21: 104\n",
            "units_22: 32\n",
            "units_23: 48\n",
            "units_24: 8\n",
            "units_25: 8\n",
            "units_26: 8\n",
            "Score: 5.335524177551269\n"
          ],
          "name": "stdout"
        }
      ]
    },
    {
      "cell_type": "code",
      "metadata": {
        "id": "YYmFB55pNxqr"
      },
      "source": [
        "y_pred = model.predict(X_test)"
      ],
      "execution_count": null,
      "outputs": []
    },
    {
      "cell_type": "code",
      "metadata": {
        "id": "YlYqrtZyPJbb"
      },
      "source": [
        "from sklearn.metrics import  mean_squared_error, r2_score, mean_absolute_error"
      ],
      "execution_count": null,
      "outputs": []
    },
    {
      "cell_type": "code",
      "metadata": {
        "colab": {
          "base_uri": "https://localhost:8080/"
        },
        "id": "bEbf31Y2PPDr",
        "outputId": "ba2fdb25-10dc-4871-91b7-9cb093f8e636"
      },
      "source": [
        "mean_squared_error(y_true= y_test, y_pred= y_pred)"
      ],
      "execution_count": null,
      "outputs": [
        {
          "output_type": "execute_result",
          "data": {
            "text/plain": [
              "44.87831719890252"
            ]
          },
          "metadata": {
            "tags": []
          },
          "execution_count": 26
        }
      ]
    },
    {
      "cell_type": "code",
      "metadata": {
        "colab": {
          "base_uri": "https://localhost:8080/"
        },
        "id": "WVQElgUcP7mw",
        "outputId": "7c7b4572-905f-4dbb-f4ea-51e33cf01834"
      },
      "source": [
        "r2_score(y_test, y_pred)"
      ],
      "execution_count": null,
      "outputs": [
        {
          "output_type": "execute_result",
          "data": {
            "text/plain": [
              "0.38802670113460325"
            ]
          },
          "metadata": {
            "tags": []
          },
          "execution_count": 27
        }
      ]
    },
    {
      "cell_type": "markdown",
      "metadata": {
        "id": "eo9bdlAOdk6s"
      },
      "source": [
        "![0_zgSKANTyadZmfhDJ.gif](data:image/gif;base64,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)"
      ]
    },
    {
      "cell_type": "code",
      "metadata": {
        "colab": {
          "base_uri": "https://localhost:8080/"
        },
        "id": "CkTe1lDvQAPz",
        "outputId": "fdb88aac-1c6a-4a4c-b0a1-5f1487963e88"
      },
      "source": [
        "mean_absolute_error(y_test, y_pred)"
      ],
      "execution_count": null,
      "outputs": [
        {
          "output_type": "execute_result",
          "data": {
            "text/plain": [
              "4.540964837167776"
            ]
          },
          "metadata": {
            "tags": []
          },
          "execution_count": 28
        }
      ]
    },
    {
      "cell_type": "code",
      "metadata": {
        "id": "-Trt3AOJQGFM"
      },
      "source": [
        "from sklearn.linear_model import  LinearRegression"
      ],
      "execution_count": null,
      "outputs": []
    },
    {
      "cell_type": "code",
      "metadata": {
        "id": "vn7iQVP9d333"
      },
      "source": [
        "lr = LinearRegression()"
      ],
      "execution_count": null,
      "outputs": []
    },
    {
      "cell_type": "code",
      "metadata": {
        "colab": {
          "base_uri": "https://localhost:8080/"
        },
        "id": "KABLYZ0Od6MK",
        "outputId": "961c4b85-6e06-4350-d2bf-4cafa2f45251"
      },
      "source": [
        "lr.fit(X_train, y_train)"
      ],
      "execution_count": null,
      "outputs": [
        {
          "output_type": "execute_result",
          "data": {
            "text/plain": [
              "LinearRegression(copy_X=True, fit_intercept=True, n_jobs=None, normalize=False)"
            ]
          },
          "metadata": {
            "tags": []
          },
          "execution_count": 31
        }
      ]
    },
    {
      "cell_type": "code",
      "metadata": {
        "id": "2VSdELaYd9Cz"
      },
      "source": [
        "y_p = lr.predict(X_test)"
      ],
      "execution_count": null,
      "outputs": []
    },
    {
      "cell_type": "code",
      "metadata": {
        "colab": {
          "base_uri": "https://localhost:8080/"
        },
        "id": "-5LNqYtZeDgC",
        "outputId": "1992122a-29e6-4630-b4ce-072fbd53e65d"
      },
      "source": [
        "mean_absolute_error(y_test, y_pred)"
      ],
      "execution_count": null,
      "outputs": [
        {
          "output_type": "execute_result",
          "data": {
            "text/plain": [
              "4.540964837167776"
            ]
          },
          "metadata": {
            "tags": []
          },
          "execution_count": 33
        }
      ]
    },
    {
      "cell_type": "code",
      "metadata": {
        "colab": {
          "base_uri": "https://localhost:8080/"
        },
        "id": "ku2Aa-SceJJb",
        "outputId": "3e6e5462-17ce-4064-d40c-16af262bed3f"
      },
      "source": [
        "r2_score(y_test, y_p)"
      ],
      "execution_count": null,
      "outputs": [
        {
          "output_type": "execute_result",
          "data": {
            "text/plain": [
              "0.3476737046310693"
            ]
          },
          "metadata": {
            "tags": []
          },
          "execution_count": 34
        }
      ]
    },
    {
      "cell_type": "code",
      "metadata": {
        "colab": {
          "base_uri": "https://localhost:8080/"
        },
        "id": "DAyp4r6eeZ38",
        "outputId": "6a9271b6-c02f-4842-f328-67dce8169dfc"
      },
      "source": [
        "mean_absolute_error(y_test, y_p)"
      ],
      "execution_count": null,
      "outputs": [
        {
          "output_type": "execute_result",
          "data": {
            "text/plain": [
              "4.847615144954195"
            ]
          },
          "metadata": {
            "tags": []
          },
          "execution_count": 35
        }
      ]
    },
    {
      "cell_type": "code",
      "metadata": {
        "id": "ZDJtelQreg7U"
      },
      "source": [
        ""
      ],
      "execution_count": null,
      "outputs": []
    }
  ]
}